{
 "cells": [
  {
   "cell_type": "code",
   "execution_count": 2,
   "metadata": {},
   "outputs": [],
   "source": [
    "import numpy as np\n",
    "import scipy.special as sci\n",
    "import matplotlib.pyplot as plt"
   ]
  },
  {
   "cell_type": "markdown",
   "metadata": {},
   "source": [
    "\n",
    "\n",
    "# Lecture 10:  REACTIVE MASS TRANSPORT\n",
    "\n",
    "---\n",
    "\n",
    "The last section dealt with the  conservative transport processes and the qunatified the mass flow and flux emanating from those processes. The effects of these processes were evaluated as an isolated as well joint transport processes. \n",
    "\n",
    "(@Abhiral @Alex some of these information should go in boxes)\n",
    "\n",
    "The key outcome was that $J_{adv}>J_{dis}>>J_{diff}$ is normal aquifers. $J_{diff}$ may only be useful as an individual processes in special aquifers, e.g., clayey aquifers. In common aquifers, hydrodynamic dispersion $J_{hyd} = J_{dis} + J_{diff}$ is used in the analysis of solute transport process. \n",
    "\n",
    "Finally, the last chapter introduced _Concentration Profile_ $(C-t)$ and _Breakthrough Curve_ $(C-x)$ to visually evaluate solute transport in aquifers using _Concentration_$(C)$, a process output, as a function of _time_ $(t)$ and _space_ $(x)$.  "
   ]
  },
  {
   "cell_type": "markdown",
   "metadata": {},
   "source": [
    "This section focuses on the _reactive transport processes_, which as already discussed involves the transport of solute with _reaction_ processes. This course being an introductory groundwater course, _sorption_ and _degradation_ are the only two reaction types introduced and combined with the conservative transport processes- _advection_ and _dispersion_. Eventully, the section evaluates the joint action of conservative transport and reactive processes limiting to 1-D scenario. \n",
    "\n",
    "The section will, however, first deal with 3-D effects of dispersive process, which is more important to quantify the reactive processes."
   ]
  },
  {
   "cell_type": "markdown",
   "metadata": {},
   "source": [
    "## Dispersive Mass Flow in 3-D\n",
    "\n",
    "In the last section we saw that concentration gradient $\\frac{\\Delta C}{\\Delta L}$ drives dispersive and diffusive solute transport process. \n",
    "\n",
    "\n",
    "However, in the natural aquifers $\\frac{\\Delta C}{\\Delta L}$ is normally varying with space $(x,y,z)$ and time $(t)$. Therefore, a differential operator $\\big(\\frac{\\mathrm{d}}{\\mathrm{d} x}\\big)$ is more suitable representation of gradient than the difference operator $\\frac{\\Delta C}{\\Delta x}$. The differential operator also generalizes the gradient case.\n",
    "\n",
    "Considering the differential operator, the diffusive mass flow and diffusive mass flux (= mass flow per unit area) in 1D is then expressed as:\n",
    "\n",
    "\n",
    "$$\n",
    "J_{diff} = - n_e \\cdot A \\cdot D_p \\cdot \\frac{\\mathrm{d} C}{\\mathrm{d}x} \n",
    "$$\n",
    "\n",
    "and \n",
    "$$\n",
    "j_{diff} = - n_e \\cdot D_p \\cdot \\frac{\\mathrm{d} C}{\\mathrm{d}x} \n",
    "$$\n",
    "\n",
    "Likewise, the dispersive mass flow and dispersive mass flux (1-D) is:\n",
    "\n",
    "$$\n",
    "J_{disp, h} = - n_e \\cdot A \\cdot D_{disp} \\cdot \\frac{\\mathrm{d} C}{\\mathrm{d}x} \n",
    "$$\n",
    "\n",
    "$$\n",
    "j_{disp, h} = - n_e \\cdot D_{disp} \\cdot \\frac{\\mathrm{d} C}{\\mathrm{d}x} \n",
    "$$\n",
    "\n",
    "The examples of these relations are presented in last section (@Alex pls. link)\n"
   ]
  },
  {
   "cell_type": "markdown",
   "metadata": {},
   "source": [
    "### 3-D concentration Gradient\n",
    "\n",
    "The concentration gradient  $\\frac{\\mathrm{d}C}{\\mathrm{d}x}$  for 1-D solute transport problems is uni-directional, i.e, direction is fixed, and thus only the magnitude of the gradient is the important factor. However in higher dimensions, 2-D or 3-D, solute transport problems, the _direction_ of gradient along with it's _magnitude_ in that direction has to be specified. Thus, for higher dimension solute transport problems, the _concentration gradient_ becomes **concentration vector**, i.e., a quantity providing both magnitude and direction. \n",
    "\n",
    "Thus, the representation of concentration gradient in Cartesian coordinate in 2-D and 3-D is:\n",
    "\n",
    "$$\n",
    "\\mathrm{grad}C = \\nabla C=  \\begin{pmatrix}\n",
    "\\frac{\\partial C}{\\partial x}\\\\\n",
    "\\frac{\\partial C}{\\partial y}\n",
    "\\end{pmatrix}\n",
    "$$\n",
    "\n",
    "and\n",
    "\n",
    "$$\n",
    "\\mathrm{grad} C = \\nabla C=  \\begin{pmatrix}\n",
    "\\frac{\\partial C}{\\partial x}\\\\\n",
    "\\frac{\\partial C}{\\partial y}\\\\\n",
    "\\frac{\\partial C}{\\partial z}\n",
    "\\end{pmatrix}\n",
    "$$\n",
    "\n",
    "The $\\nabla$, the inverted Delta symbol, is called the **del** or **nabla** operator. The vector **grad$C$** in the above relations points in the direction of the _steepest increase_ of $C$. However, for the **Hydrogeologists**, the concentration gradients as well the grad$C$ points to the _steepest decrease_ of $C$. \n",
    "\n",
    "**@Anne/Sophie - can we try to find a simple example finding grad$C$ in 2-D/3-D**"
   ]
  },
  {
   "cell_type": "markdown",
   "metadata": {
    "variables": {
     "disp, h": "<p><strong>NameError</strong>: name &#39;disp&#39; is not defined</p>\n",
     "disp,\\, h": "<p><strong>SyntaxError</strong>: unexpected character after line continuation character (<ipython-input-1-5de2dd44ada9>, line 1)</p>\n",
     "disp,\\, hx": "<p><strong>SyntaxError</strong>: unexpected character after line continuation character (<ipython-input-1-3038f1dae650>, line 1)</p>\n",
     "disp,\\, hy": "<p><strong>SyntaxError</strong>: unexpected character after line continuation character (<ipython-input-1-499c87e5376c>, line 1)</p>\n",
     "disp,\\, hz": "<p><strong>SyntaxError</strong>: unexpected character after line continuation character (<ipython-input-1-f38be2413eed>, line 1)</p>\n"
    }
   },
   "source": [
    "## Isotropic and Anisotropic  Dispersion\n",
    "\n",
    "Corresponding the expression for the concentration gradient at higher dimensions, the expression for mass flow and flux becomes:\n",
    "\n",
    "$$\n",
    "J_{disp,\\, h} = \\begin{pmatrix}\n",
    "J_{disp,\\, hx}\\\\\n",
    "J_{disp,\\, hy}\\\\\n",
    "J_{disp,\\, hz}\n",
    "\\end{pmatrix}\n",
    "$$\n",
    "and the 3-D mass flux is:\n",
    "\n",
    "$$\n",
    "j_{disp,\\, h} = \\begin{pmatrix}\n",
    "j_{disp,\\, hx}\\\\\n",
    "j_{disp,\\, hy}\\\\\n",
    "j_{disp,\\, hz}\n",
    "\\end{pmatrix}\n",
    "$$\n",
    "\n",
    "The subscript in ${{disp, h}}$ refers to _hydrodynamic dispersion_ which is sum of _mechanical dispersion_ and _diffusion_. Likewise, the subscript ${{disp,\\, hx}}$, ${{disp,\\, hy}}$ and ${{disp,\\, hz}}$ refers to dispersion components along the Cartesian coordinates. The corresponding mass flow and mass flux in the higher dimension is then:\n",
    "\n",
    "$$\n",
    "J_{disp,\\, h} = - n_e \\cdot A \\cdot D_{hyd} \\cdot \\text{grad}C\n",
    "$$\n",
    "\n",
    "and\n",
    "\n",
    "## Isotropic and Anisotropic  Dispersion\n",
    "\n",
    "Corresponding the expression for the concentration gradient at higher dimensions, the expression for mass flow and flux becomes:\n",
    "\n",
    "$$\n",
    "J_{disp,\\, h} = \\begin{pmatrix}\n",
    "J_{disp,\\, hx}\\\\\n",
    "J_{disp,\\, hy}\\\\\n",
    "J_{disp,\\, hz}\n",
    "\\end{pmatrix}\n",
    "$$\n",
    "and the 3-D mass flux is:\n",
    "\n",
    "$$\n",
    "j_{disp,\\, h} = \\begin{pmatrix}\n",
    "j_{disp,\\, hx}\\\\\n",
    "j_{disp,\\, hy}\\\\\n",
    "j_{disp,\\, hz}\n",
    "\\end{pmatrix}\n",
    "$$\n",
    "\n",
    "The subscript in ${{disp,\\, h}}$ refers to _hydrodynamic dispersion_ which is sum of _mechanical dispersion_ and _diffusion_. Likewise, the subscript ${{disp,\\, hx}}$, ${{disp,\\, hy}}$ and ${{disp,\\, hz}}$ refers to dispersion components along the Cartesian coordinates. The corresponding mass flow and mass flux in the higher dimension is then:\n",
    "\n",
    "$$\n",
    "J_{disp,\\, h} = - n_e \\cdot A \\cdot D_{hyd} \\cdot \\text{grad}C\n",
    "$$\n",
    "\n",
    "and\n",
    "\n",
    "$$\n",
    "j_{disp,\\, h} = - n_e \\cdot A \\cdot D_{hyd} \\cdot \\text{grad}C\n",
    "$$\n",
    "\n",
    "The **isotropic dispersion**, rather an _exceptional,_ the $D_{hyd}$ in this case is:\n",
    "\n",
    "$$\n",
    "D_{hyd} = \\alpha \\cdot |v| + n_e \\cdot D \n",
    "$$\n",
    "where, $D$ is direction independent dispersion coefficient and $\\alpha$ $[L]$ is dispersivity, which in:\n",
    "\n",
    "**heterogeneous aquifer**: $\\alpha = \\alpha(x,y,z)$ and in \n",
    "\n",
    "**homogeneous aquifer**: $\\alpha = \\text{constant}$  \n",
    "\n",
    "\n",
    "\n"
   ]
  },
  {
   "cell_type": "markdown",
   "metadata": {},
   "source": [
    "For more practical cases and in normal aquifers, the 2-D and 3-D the dispersion for solute transport is _direction dependent,_ i.e. **anisotropic**. Hence the $D_{hyd}$ is not an scalar quantity but a _matrix (tensor),_ which relates the concentration gradient (vector) to the dispersive mass flow (vector). However, if the princopal axes of the dispersion tensor $D_{hyd}$ is made to coincide with the axes of a Cartesian coordinate system _and_ the groundwater flow is considered uniform along the $x-$axis, the dispersive mass flux can be obtained from\n",
    "\n",
    "$$\n",
    "\\begin{pmatrix} J_x \\\\ j_y \\\\ j_z \\end{pmatrix} =\n",
    "\\begin{pmatrix} \\alpha_L \\cdot v_x + n_e \\cdot D & 0 & 0 \\\\\n",
    "0 & \\alpha_{Th} \\cdot v_x + n_e \\cdot D & 0\\\\\n",
    "0 & 0 & \\alpha_{Tv} \\cdot v_x + n_e \\cdot D\n",
    "\\end{pmatrix}\n",
    "\\cdot\n",
    "\\begin{pmatrix} \\frac{\\partial C}{\\partial x} \\\\ \\frac{\\partial C}{\\partial y} \\\\ \\frac{\\partial C}{\\partial z} \\end{pmatrix} \n",
    "$$\n",
    "\n",
    "with $\\alpha_L$, $\\alpha_{Th}$ and $\\alpha_{Tv}$ are longitudinal dispersivity, horizontal transverse dispversity and vertical transverse dispersivity, respectively. The statistical analysis of dispersivity data shows that $\\alpha_{L}>\\alpha_{Th}>\\alpha_{Tv}$ and the values differ by roughly an order of magnitude. This, however, is just a rule of thumb.\n",
    "\n",
    "@Anne/@Sophie can you find a very simple numerical example for caculating dispersivity or something that explains the above relation."
   ]
  },
  {
   "cell_type": "code",
   "execution_count": 20,
   "metadata": {},
   "outputs": [
    {
     "data": {
      "image/png": "[encoded data removed]",
      "text/plain": [
       "<Figure size 432x288 with 2 Axes>"
      ]
     },
     "metadata": {
      "needs_background": "light"
     },
     "output_type": "display_data"
    }
   ],
   "source": [
    "# Analytical solution from Bear (1976) - Line source, 1st-type input and infinte plane\n",
    "\n",
    "# Input (values can be changed)\n",
    "Co = 1 # mg/L, input concentration \n",
    "Dx = 3 # m, Dispersion in x direction \n",
    "Dy = Dx/10 # m\n",
    "v = 0.05 # m/d\n",
    "Q = 10 # m^3/d\n",
    "\n",
    "## domain dimension and descritization (values can be changed)\n",
    "xmin = -100; xmax= 101  \n",
    "ymin = 0.1; ymax = 11\n",
    "[x, y] = np.meshgrid(np.linspace(xmin, xmax, 1000), np.linspace(ymin, ymax, 100)) # mesh\n",
    "\n",
    "# Bear (1976) solution Implementation \n",
    "#\"k0: Modified Bessel function of second type and zero Order\"\n",
    "\n",
    "term1 = (Co*Q)/(2*np.pi* np.sqrt(Dx*Dy))\n",
    "term2 = (x*v)/(2*Dx)\n",
    "args = (v**2*x**2)/(4*Dx**2) + (v**2*y**2)/(4*Dx*Dy)\n",
    "sol = term1*np.exp(term2)*sci.k0(args)\n",
    "\n",
    "# plots\n",
    "fig, ax = plt.subplots()\n",
    "CS = ax.contour(x,y,sol, cmap='flag')\n",
    "ax.clabel(CS, inline=1, fontsize= 10)\n",
    "CB = fig.colorbar(CS, shrink=0.8, extend='both')"
   ]
  },
  {
   "cell_type": "markdown",
   "metadata": {},
   "source": [
    "## Equilibrium Sorption ##\n",
    "\n",
    "---\n"
   ]
  },
  {
   "cell_type": "code",
   "execution_count": null,
   "metadata": {},
   "outputs": [],
   "source": []
  }
 ],
 "metadata": {
  "hide_input": false,
  "kernelspec": {
   "display_name": "Python 3",
   "language": "python",
   "name": "python3"
  },
  "language_info": {
   "codemirror_mode": {
    "name": "ipython",
    "version": 3
   },
   "file_extension": ".py",
   "mimetype": "text/x-python",
   "name": "python",
   "nbconvert_exporter": "python",
   "pygments_lexer": "ipython3",
   "version": "3.7.6"
  },
  "latex_envs": {
   "LaTeX_envs_menu_present": true,
   "autoclose": false,
   "autocomplete": true,
   "bibliofile": "biblio.bib",
   "cite_by": "apalike",
   "current_citInitial": 1,
   "eqLabelWithNumbers": false,
   "eqNumInitial": 1,
   "hotkeys": {
    "equation": "Ctrl-E",
    "itemize": "Ctrl-I"
   },
   "labels_anchors": false,
   "latex_user_defs": false,
   "report_style_numbering": false,
   "user_envs_cfg": false
  },
  "varInspector": {
   "cols": {
    "lenName": 16,
    "lenType": 16,
    "lenVar": 40
   },
   "kernels_config": {
    "python": {
     "delete_cmd_postfix": "",
     "delete_cmd_prefix": "del ",
     "library": "var_list.py",
     "varRefreshCmd": "print(var_dic_list())"
    },
    "r": {
     "delete_cmd_postfix": ") ",
     "delete_cmd_prefix": "rm(",
     "library": "var_list.r",
     "varRefreshCmd": "cat(var_dic_list()) "
    }
   },
   "types_to_exclude": [
    "module",
    "function",
    "builtin_function_or_method",
    "instance",
    "_Feature"
   ],
   "window_display": false
  }
 },
 "nbformat": 4,
 "nbformat_minor": 4
}
