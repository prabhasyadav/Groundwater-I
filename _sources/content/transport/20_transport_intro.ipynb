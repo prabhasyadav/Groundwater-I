{
 "cells": [
  {
   "cell_type": "markdown",
   "metadata": {},
   "source": [
    "# Transport in groundwater\n",
    "_(based on lecture 9 of HSE GW course_)"
   ]
  },
  {
   "cell_type": "markdown",
   "metadata": {},
   "source": [
    "```{note}\n",
    "The **transport** is the second among the three components of our course.\n",
    "```\n",
    "\n",
    "```{sidebar} The components can be living organisms\n",
    "e.g., bacteria, virus; chemicals, e.g., oil, CO$_2$ or porous media, e.g., sand, soil\n",
    "```\n",
    "The **Transport** in groundwater deals with quantification of any **component** that flows along with the groundwater. \n"
   ]
  },
  {
   "cell_type": "markdown",
   "metadata": {},
   "source": [
    "<br>"
   ]
  },
  {
   "cell_type": "markdown",
   "metadata": {},
   "source": [
    "Thus, one differentiates between groundwater **flow** - as studies related with only water as against **transport** - related to components flowing along with groundwater.  In terms of unit of measurements, the flow studies deals with volumetric unit  [$L^{3}$], whereas transport study deals with qunatification of mass [M] often as per unit volume of groundwater or concentration [ML$^{-3}$]. **Space** and **time** are fundamental variables in both flow and transport studies.\n",
    "\n",
    "The _transport_ in groundwater can be categorized into the two following group.\n",
    "\n",
    "1. Conservative transport \n",
    "2. Reactive transport \n",
    "\n",
    "We start with a clear destinctions between the two tranports.\n",
    "\n"
   ]
  },
  {
   "cell_type": "markdown",
   "metadata": {
    "tags": "hide-cell"
   },
   "source": [
    "## Conservative and reactive transport systems \n",
    "\n",
    "**Conservative transport system** is when there is\n",
    "- no interaction with aquifer solid material,\n",
    "- no interaction with other chemicals,\n",
    "- no interaction with living organisms (e.g., bacteria)\n",
    "\n",
    "```{note}\n",
    "When either of the above interaction is part of the process, then the system is **reactive**.\n",
    "```"
   ]
  },
  {
   "cell_type": "markdown",
   "metadata": {},
   "source": [
    "```{admonition} Tip\n",
    ":class: tip\n",
    "In the course, the conservative transport will introduce fundamental transport processes such as **advection**, **mechanical dispersion** and **diffusion**. Then in the reactive transport, these processes will be combined with reaction processes such as **sorption**, **degradation**. Eventually, fundamental equation for modeling transport (conservative and reactive) will be developed. \n",
    "```"
   ]
  }
 ],
 "metadata": {
  "kernelspec": {
   "display_name": "Python 3",
   "language": "python",
   "name": "python3"
  },
  "language_info": {
   "codemirror_mode": {
    "name": "ipython",
    "version": 3
   },
   "file_extension": ".py",
   "mimetype": "text/x-python",
   "name": "python",
   "nbconvert_exporter": "python",
   "pygments_lexer": "ipython3",
   "version": "3.6.8-final"
  },
  "widgets": {
   "application/vnd.jupyter.widget-state+json": {
    "state": {},
    "version_major": 2,
    "version_minor": 0
   }
  }
 },
 "nbformat": 4,
 "nbformat_minor": 4
}